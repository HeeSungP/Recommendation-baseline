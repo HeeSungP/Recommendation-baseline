{
 "cells": [
  {
   "cell_type": "code",
   "execution_count": 1,
   "metadata": {},
   "outputs": [],
   "source": [
    "import numpy as np\n",
    "import pandas as pd\n",
    "from tqdm import tqdm\n",
    "from sklearn.metrics.pairwise import cosine_similarity, euclidean_distances, manhattan_distances\n",
    "import random"
   ]
  },
  {
   "cell_type": "markdown",
   "metadata": {},
   "source": [
    "## 0. 데이터 로드"
   ]
  },
  {
   "cell_type": "code",
   "execution_count": 2,
   "metadata": {},
   "outputs": [
    {
     "name": "stdout",
     "output_type": "stream",
     "text": [
      "n_user : 23566, n_item : 48123\n",
      "train : 3011197, test : 23566\n"
     ]
    }
   ],
   "source": [
    "filename=\"lastfm\" # mlsmall ml1m lastfm abook\n",
    "\n",
    "#train data load\n",
    "train_data_df = pd.read_csv(\n",
    "    './data/'+filename+'.train.rating', \n",
    "    sep='\\t', header=None, names=['user', 'item'], \n",
    "    usecols=[0, 1], dtype={0: np.int32, 1: np.int32})\n",
    "\n",
    "#test data load\n",
    "#99개는 나중에 test과정에서 랜덤으로 뽑자\n",
    "test_data_df = pd.read_csv(\n",
    "    './data/'+filename+'.test.rating', \n",
    "    sep='\\t', header=None, names=['user', 'item'], \n",
    "    usecols=[0, 1], dtype={0: np.int32, 1: np.int32})\n",
    "\n",
    "#user, item num\n",
    "num_users = train_data_df['user'].max() + 1\n",
    "num_items = train_data_df['item'].max() + 1\n",
    "\n",
    "print(\"n_user : {}, n_item : {}\".format(num_users, num_items))\n",
    "print(\"train : {}, test : {}\".format(len(train_data_df), len(test_data_df)))"
   ]
  },
  {
   "cell_type": "code",
   "execution_count": 3,
   "metadata": {},
   "outputs": [
    {
     "name": "stdout",
     "output_type": "stream",
     "text": [
      "1529532 1529532\n"
     ]
    }
   ],
   "source": [
    "train_data_df_drop = train_data_df.drop_duplicates().copy()\n",
    "\n",
    "u_lst = train_data_df_drop['user'].tolist()\n",
    "i_lst = train_data_df_drop['item'].tolist()\n",
    "print(len(u_lst), len(i_lst))"
   ]
  },
  {
   "cell_type": "markdown",
   "metadata": {},
   "source": [
    "## 새로운 데이터셋은 [1.매트릭스 생성] 으로\n",
    "## Last-FM 3개로 진행은 [2.불러와서 시작] 으로\n",
    "\n",
    "## => [1.] 혹은 [2.] 완료한 이후에 [3.] 실행"
   ]
  },
  {
   "cell_type": "markdown",
   "metadata": {},
   "source": [
    "# "
   ]
  },
  {
   "cell_type": "markdown",
   "metadata": {},
   "source": [
    "## @@@@@@@@@@@@@@@@@@@@@@@@@@@\n",
    "## @@@@@@@@@ 1. 매트릭스 생성 @@@@@@@@@\n",
    "## @@@@@@@@@@@@@@@@@@@@@@@@@@@"
   ]
  },
  {
   "cell_type": "code",
   "execution_count": null,
   "metadata": {},
   "outputs": [],
   "source": [
    "# rating array 생성\n",
    "mat = np.zeros((num_users, num_items))\n",
    "for i in tqdm(range(len(train_data_df_drop))):\n",
    "    mat[u_lst[i], i_lst[i]] = 1\n",
    "    \n",
    "print(mat.shape)\n",
    "\n",
    "# user - item matrix    \n",
    "user_item_df = pd.DataFrame(mat)\n",
    "print(user_item_df.shape)\n",
    "\n",
    "# item similarity matrix\n",
    "item_sim = cosine_similarity(user_item_df.transpose(),user_item_df.transpose())\n",
    "item_sim_df = pd.DataFrame(item_sim)\n",
    "print(item_sim_df.shape)"
   ]
  },
  {
   "cell_type": "code",
   "execution_count": null,
   "metadata": {},
   "outputs": [],
   "source": [
    "# interaction에 따른 score matrix\n",
    "score = np.zeros((num_users, num_items))\n",
    "for k in tqdm(range(len(train_data_df_drop))):\n",
    "    u,i=u_lst[k],i_lst[k]\n",
    "    score[u]=np.array([x+y for x,y in zip(score[u],item_sim[i])])"
   ]
  },
  {
   "cell_type": "code",
   "execution_count": null,
   "metadata": {},
   "outputs": [],
   "source": [
    "score_df=pd.DataFrame(score)"
   ]
  },
  {
   "cell_type": "markdown",
   "metadata": {},
   "source": [
    "### 다음에 해야할게 to_dict() 인데, 메모리가 부족해서 분할작업 필요\n",
    "\n",
    "#score_df -> dict로 변경\n",
    "\n",
    "#score_dict = score_df.to_dict()\n",
    "\n",
    "#그냥 to_dict로 변경하니까 item이 key값으로 나옴\n",
    "\n",
    "score_dict = score_df.transpose().to_dict()\n"
   ]
  },
  {
   "cell_type": "markdown",
   "metadata": {},
   "source": [
    "#### 분할 작업을 위한 저장"
   ]
  },
  {
   "cell_type": "code",
   "execution_count": null,
   "metadata": {},
   "outputs": [],
   "source": [
    "score_df.to_pickle('D://score_df.pickle')"
   ]
  },
  {
   "cell_type": "code",
   "execution_count": null,
   "metadata": {},
   "outputs": [],
   "source": [
    "score_df[0:8000].to_pickle('D://score_df_1.pickle')\n",
    "score_df[8000:16000].to_pickle('D://score_df_2.pickle')\n",
    "score_df[16000:23566].to_pickle('D://score_df_3.pickle')"
   ]
  },
  {
   "cell_type": "markdown",
   "metadata": {},
   "source": [
    "# "
   ]
  },
  {
   "cell_type": "markdown",
   "metadata": {},
   "source": [
    "## @@@@@@@@@@@@@@@@@@@@@@@@@@@\n",
    "## @@@@@@@@@ 2. 불러와서 시작 @@@@@@@@@\n",
    "## @@@@@@@@@@@@@@@@@@@@@@@@@@@"
   ]
  },
  {
   "cell_type": "code",
   "execution_count": 4,
   "metadata": {},
   "outputs": [
    {
     "name": "stdout",
     "output_type": "stream",
     "text": [
      "8000\n",
      "8000\n"
     ]
    }
   ],
   "source": [
    "file_num = 1 #1, 2, 3\n",
    "\n",
    "if file_num == 1:\n",
    "    st, en = 0, 8000\n",
    "    score_df = pd.read_pickle('D://score_df_'+str(file_num)+'.pickle')\n",
    "if file_num == 2:\n",
    "    st, en = 8000, 16000\n",
    "    score_df = pd.read_pickle('D://score_df_'+str(file_num)+'.pickle')\n",
    "if file_num == 3:\n",
    "    st, en = 16000, 23566\n",
    "    score_df = pd.read_pickle('D://score_df_'+str(file_num)+'.pickle')\n",
    "print(len(score_df))\n",
    "\n",
    "# user별 item score을 dict 형태로 저장\n",
    "score_dict = score_df.transpose().to_dict()\n",
    "print(len(score_dict))"
   ]
  },
  {
   "cell_type": "code",
   "execution_count": null,
   "metadata": {},
   "outputs": [],
   "source": []
  },
  {
   "cell_type": "code",
   "execution_count": null,
   "metadata": {},
   "outputs": [],
   "source": []
  },
  {
   "cell_type": "markdown",
   "metadata": {},
   "source": [
    "## 3. Evaluation"
   ]
  },
  {
   "cell_type": "code",
   "execution_count": 5,
   "metadata": {},
   "outputs": [],
   "source": [
    "def hit(gt_item, pred_items):\n",
    "\tif gt_item in pred_items:\n",
    "\t\treturn 1\n",
    "\treturn 0\n",
    "\n",
    "\n",
    "def ndcg(gt_item, pred_items):\n",
    "\tif gt_item in pred_items:\n",
    "\t\tindex = pred_items.index(gt_item)\n",
    "\t\treturn np.reciprocal(np.log2(index+2))\n",
    "\treturn 0\n",
    "\n",
    "def evaluate(gt_item, full_pred_items, K):\n",
    "    pred_items = full_pred_items[0:K]\n",
    "    return hit(gt_item, pred_items), ndcg(gt_item, pred_items)\n",
    "\n",
    "def user_test(test_user, K):\n",
    "    # 강좌별 score\n",
    "    pred = dict(sorted(score_dict[test_user].items(),key=(lambda x:x[1]), reverse=True))\n",
    "\n",
    "    # test 100개 리스트 만들기\n",
    "    asis = train_data_df[train_data_df['user']==test_user]['item'].tolist()\n",
    "    gt = test_data_df[test_data_df['user']==test_user]['item'].tolist()\n",
    "    \n",
    "    full = set(range(0,num_items))\n",
    "    test_cand_99 = random.sample(list(full-set(asis)-set(gt)),99)\n",
    "    test_cand = gt.copy()\n",
    "    test_cand.extend(test_cand_99)\n",
    "    \n",
    "    # 100개 score 다시 뽑아서 test_score에 저장\n",
    "    test_score=dict()\n",
    "    for item in test_cand:\n",
    "        test_score.update({item:pred[item]})\n",
    "\n",
    "    res = dict(sorted(test_score.items(),key=(lambda x:x[1]), reverse=True))\n",
    "\n",
    "    return evaluate(gt[0], list(res.keys()), K)"
   ]
  },
  {
   "cell_type": "code",
   "execution_count": 7,
   "metadata": {},
   "outputs": [
    {
     "name": "stderr",
     "output_type": "stream",
     "text": [
      "100%|█████████████████████████████████████████████████████████████████████████████████| 5/5 [1:18:11<00:00, 938.21s/it]"
     ]
    },
    {
     "name": "stdout",
     "output_type": "stream",
     "text": [
      "K=5  : 0.8328 / 0.7655\n",
      "K=10 : 0.8819 / 0.7820\n",
      "K=20 : 0.9336 / 0.7944\n"
     ]
    },
    {
     "name": "stderr",
     "output_type": "stream",
     "text": [
      "\n"
     ]
    }
   ],
   "source": [
    "hr_5 = []\n",
    "ndcg_5 = []\n",
    "hr_10 = []\n",
    "ndcg_10 = []\n",
    "hr_20 = []\n",
    "ndcg_20 = []\n",
    "\n",
    "for epoch in tqdm(range(5)): # 반복 횟수 지정\n",
    "    for i in range(st,en): # 범위에 해당하는 user만 test\n",
    "        # eval 결과 temp_에 저장\n",
    "        temp_5 = user_test(i,5)\n",
    "        temp_10 = user_test(i,10)\n",
    "        temp_20 = user_test(i,20)\n",
    "\n",
    "        # 각 테스트 결과 저장\n",
    "        hr_5.append(temp_5[0])\n",
    "        ndcg_5.append(temp_5[1])\n",
    "        hr_10.append(temp_10[0])\n",
    "        ndcg_10.append(temp_10[1])\n",
    "        hr_20.append(temp_20[0])\n",
    "        ndcg_20.append(temp_20[1])\n",
    "    \n",
    "print(\"K=5  : {:.4f} / {:.4f}\".format(sum(hr_5)/len(hr_5), sum(ndcg_5)/len(ndcg_5)))\n",
    "print(\"K=10 : {:.4f} / {:.4f}\".format(sum(hr_10)/len(hr_10), sum(ndcg_10)/len(ndcg_10)))\n",
    "print(\"K=20 : {:.4f} / {:.4f}\".format(sum(hr_20)/len(hr_20), sum(ndcg_20)/len(ndcg_20)))"
   ]
  },
  {
   "cell_type": "code",
   "execution_count": null,
   "metadata": {},
   "outputs": [],
   "source": []
  }
 ],
 "metadata": {
  "kernelspec": {
   "display_name": "Python 3",
   "language": "python",
   "name": "python3"
  },
  "language_info": {
   "codemirror_mode": {
    "name": "ipython",
    "version": 3
   },
   "file_extension": ".py",
   "mimetype": "text/x-python",
   "name": "python",
   "nbconvert_exporter": "python",
   "pygments_lexer": "ipython3",
   "version": "3.8.5"
  }
 },
 "nbformat": 4,
 "nbformat_minor": 4
}
