{
 "cells": [
  {
   "cell_type": "code",
   "execution_count": 1,
   "metadata": {},
   "outputs": [],
   "source": [
    "import numpy as np\n",
    "import pandas as pd\n",
    "from tqdm import tqdm\n",
    "from sklearn.metrics.pairwise import cosine_similarity, euclidean_distances, manhattan_distances\n",
    "import random"
   ]
  },
  {
   "cell_type": "markdown",
   "metadata": {},
   "source": [
    "### 데이터로드"
   ]
  },
  {
   "cell_type": "code",
   "execution_count": 2,
   "metadata": {},
   "outputs": [
    {
     "name": "stdout",
     "output_type": "stream",
     "text": [
      "n_user : 6040, n_item : 3706\n",
      "train : 994169, test : 6040\n"
     ]
    }
   ],
   "source": [
    "filename=\"ml1m\" # mlsmall ml1m lastfm abook\n",
    "\n",
    "#train data load\n",
    "train_data_df = pd.read_csv(\n",
    "    './data/'+filename+'.train.rating', \n",
    "    sep='\\t', header=None, names=['user', 'item'], \n",
    "    usecols=[0, 1], dtype={0: np.int32, 1: np.int32})\n",
    "\n",
    "#test data load\n",
    "#99개는 나중에 test과정에서 랜덤으로 뽑자\n",
    "test_data_df = pd.read_csv(\n",
    "    './data/'+filename+'.test.rating', \n",
    "    sep='\\t', header=None, names=['user', 'item'], \n",
    "    usecols=[0, 1], dtype={0: np.int32, 1: np.int32})\n",
    "\n",
    "#user, item num\n",
    "num_users = train_data_df['user'].max() + 1\n",
    "num_items = train_data_df['item'].max() + 1\n",
    "\n",
    "print(\"n_user : {}, n_item : {}\".format(num_users, num_items))\n",
    "print(\"train : {}, test : {}\".format(len(train_data_df), len(test_data_df)))"
   ]
  },
  {
   "cell_type": "code",
   "execution_count": 5,
   "metadata": {},
   "outputs": [
    {
     "name": "stdout",
     "output_type": "stream",
     "text": [
      "Asis Counter len :  3704\n",
      "Counter len : 3706 <<<< {3569, 1805} 0으로 채움\n"
     ]
    }
   ],
   "source": [
    "from collections import Counter\n",
    "\n",
    "pred = dict(Counter(train_data_df['item'].tolist()))\n",
    "print(\"Asis Counter len : \",len(pred))\n",
    "\n",
    "# 빈거 있으면 채우기\n",
    "empty_num = set([i for i in range(3706)])-set(pred.keys())\n",
    "if len(empty_num) != 0:\n",
    "    for e_num in range(len(empty_num)):\n",
    "        pred.update({list(empty_num)[e_num]:0})\n",
    "print(\"Counter len : {} <<<< {} 0으로 채움\".format(len(pred), empty_num))"
   ]
  },
  {
   "cell_type": "markdown",
   "metadata": {},
   "source": [
    "### evaluate"
   ]
  },
  {
   "cell_type": "code",
   "execution_count": 6,
   "metadata": {},
   "outputs": [],
   "source": [
    "def hit(gt_item, pred_items):\n",
    "\tif gt_item in pred_items:\n",
    "\t\treturn 1\n",
    "\treturn 0\n",
    "\n",
    "\n",
    "def ndcg(gt_item, pred_items):\n",
    "\tif gt_item in pred_items:\n",
    "\t\tindex = pred_items.index(gt_item)\n",
    "\t\treturn np.reciprocal(np.log2(index+2))\n",
    "\treturn 0\n",
    "\n",
    "def evaluate(gt_item, full_pred_items, K):\n",
    "    pred_items = full_pred_items[0:K]\n",
    "    return hit(gt_item, pred_items), ndcg(gt_item, pred_items)\n",
    "\n",
    "def user_test(test_user, K):\n",
    "    # 강좌별 score\n",
    "    #pred = dict(Counter(train_data_df['item'].tolist()))\n",
    "\n",
    "    # test 100개 리스트 만들기\n",
    "    asis = train_data_df[train_data_df['user']==test_user]['item'].tolist()\n",
    "    gt = test_data_df[test_data_df['user']==test_user]['item'].tolist()\n",
    "    \n",
    "    full = set(range(0,num_items))\n",
    "    test_cand_99 = random.sample(list(full-set(asis)-set(gt)),99)\n",
    "    test_cand = gt.copy()\n",
    "    test_cand.extend(test_cand_99)\n",
    "    \n",
    "    # 100개 score 다시 뽑아서 test_score에 저장\n",
    "    test_score=dict()\n",
    "    for item in test_cand:\n",
    "        test_score.update({item:pred[item]})\n",
    "\n",
    "    res = dict(sorted(test_score.items(),key=(lambda x:x[1]), reverse=True))\n",
    "\n",
    "    return evaluate(gt[0], list(res.keys()), K)"
   ]
  },
  {
   "cell_type": "code",
   "execution_count": 7,
   "metadata": {},
   "outputs": [
    {
     "name": "stderr",
     "output_type": "stream",
     "text": [
      " 10%|████████▎                                                                          | 1/10 [00:41<06:10, 41.22s/it]"
     ]
    },
    {
     "name": "stdout",
     "output_type": "stream",
     "text": [
      "1 0.4508278145695364 0.2525558108010725\n"
     ]
    },
    {
     "name": "stderr",
     "output_type": "stream",
     "text": [
      "\r",
      " 20%|████████████████▌                                                                  | 2/10 [01:20<05:24, 40.58s/it]"
     ]
    },
    {
     "name": "stdout",
     "output_type": "stream",
     "text": [
      "2 0.4480132450331126 0.25039106386052834\n"
     ]
    },
    {
     "name": "stderr",
     "output_type": "stream",
     "text": [
      "\r",
      " 30%|████████████████████████▉                                                          | 3/10 [01:55<04:32, 38.92s/it]"
     ]
    },
    {
     "name": "stdout",
     "output_type": "stream",
     "text": [
      "3 0.45678807947019867 0.2529372930455645\n"
     ]
    },
    {
     "name": "stderr",
     "output_type": "stream",
     "text": [
      "\r",
      " 40%|█████████████████████████████████▏                                                 | 4/10 [02:38<04:01, 40.26s/it]"
     ]
    },
    {
     "name": "stdout",
     "output_type": "stream",
     "text": [
      "4 0.45380794701986754 0.25208318627995113\n"
     ]
    },
    {
     "name": "stderr",
     "output_type": "stream",
     "text": [
      "\r",
      " 50%|█████████████████████████████████████████▌                                         | 5/10 [03:22<03:26, 41.39s/it]"
     ]
    },
    {
     "name": "stdout",
     "output_type": "stream",
     "text": [
      "5 0.4564569536423841 0.2525803077041824\n"
     ]
    },
    {
     "name": "stderr",
     "output_type": "stream",
     "text": [
      "\r",
      " 60%|█████████████████████████████████████████████████▊                                 | 6/10 [03:59<02:39, 39.87s/it]"
     ]
    },
    {
     "name": "stdout",
     "output_type": "stream",
     "text": [
      "6 0.45380794701986754 0.25255536416507146\n"
     ]
    },
    {
     "name": "stderr",
     "output_type": "stream",
     "text": [
      "\r",
      " 70%|██████████████████████████████████████████████████████████                         | 7/10 [04:34<01:55, 38.56s/it]"
     ]
    },
    {
     "name": "stdout",
     "output_type": "stream",
     "text": [
      "7 0.4566225165562914 0.25359370357510497\n"
     ]
    },
    {
     "name": "stderr",
     "output_type": "stream",
     "text": [
      "\r",
      " 80%|██████████████████████████████████████████████████████████████████▍                | 8/10 [05:09<01:15, 37.60s/it]"
     ]
    },
    {
     "name": "stdout",
     "output_type": "stream",
     "text": [
      "8 0.4541390728476821 0.25259631394944865\n"
     ]
    },
    {
     "name": "stderr",
     "output_type": "stream",
     "text": [
      "\r",
      " 90%|██████████████████████████████████████████████████████████████████████████▋        | 9/10 [05:46<00:37, 37.38s/it]"
     ]
    },
    {
     "name": "stdout",
     "output_type": "stream",
     "text": [
      "9 0.45281456953642385 0.2503965149657311\n"
     ]
    },
    {
     "name": "stderr",
     "output_type": "stream",
     "text": [
      "100%|██████████████████████████████████████████████████████████████████████████████████| 10/10 [06:27<00:00, 38.72s/it]"
     ]
    },
    {
     "name": "stdout",
     "output_type": "stream",
     "text": [
      "10 0.4587748344370861 0.2546600896681906\n"
     ]
    },
    {
     "name": "stderr",
     "output_type": "stream",
     "text": [
      "\n"
     ]
    }
   ],
   "source": [
    "fin_hr=[]\n",
    "fin_ndcg=[]\n",
    "for epoch in tqdm(range(10)):\n",
    "    _hr=[]\n",
    "    _ndcg=[]\n",
    "\n",
    "    #for i in tqdm(range(num_users)):\n",
    "    for i in range(num_users):\n",
    "        temp1, temp2 = user_test(i,10)\n",
    "        _hr.append(temp1)\n",
    "        _ndcg.append(temp2)\n",
    "    fin_hr.append(sum(_hr)/len(_hr))\n",
    "    fin_ndcg.append(sum(_ndcg)/len(_ndcg))\n",
    "    print(epoch+1, sum(_hr)/len(_hr), sum(_ndcg)/len(_ndcg))"
   ]
  },
  {
   "cell_type": "code",
   "execution_count": null,
   "metadata": {},
   "outputs": [],
   "source": [
    "print(fin_hr)\n",
    "print(fin_ndcg)"
   ]
  }
 ],
 "metadata": {
  "kernelspec": {
   "display_name": "Python 3",
   "language": "python",
   "name": "python3"
  },
  "language_info": {
   "codemirror_mode": {
    "name": "ipython",
    "version": 3
   },
   "file_extension": ".py",
   "mimetype": "text/x-python",
   "name": "python",
   "nbconvert_exporter": "python",
   "pygments_lexer": "ipython3",
   "version": "3.7.9"
  }
 },
 "nbformat": 4,
 "nbformat_minor": 4
}
