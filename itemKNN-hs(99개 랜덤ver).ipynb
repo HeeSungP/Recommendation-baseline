{
 "cells": [
  {
   "cell_type": "code",
   "execution_count": 9,
   "id": "abstract-elite",
   "metadata": {},
   "outputs": [],
   "source": [
    "import numpy as np\n",
    "import pandas as pd\n",
    "from tqdm import tqdm\n",
    "from sklearn.metrics.pairwise import cosine_similarity, euclidean_distances, manhattan_distances\n",
    "import random"
   ]
  },
  {
   "cell_type": "markdown",
   "id": "understanding-miami",
   "metadata": {},
   "source": [
    "### 데이터 로드"
   ]
  },
  {
   "cell_type": "code",
   "execution_count": 2,
   "id": "brilliant-louisville",
   "metadata": {},
   "outputs": [
    {
     "name": "stdout",
     "output_type": "stream",
     "text": [
      "n_user : 6040, n_item : 3706\n",
      "train : 994169, test : 6040\n"
     ]
    }
   ],
   "source": [
    "filename=\"ml1m\" # mlsmall ml1m lastfm abook\n",
    "\n",
    "#train data load\n",
    "train_data_df = pd.read_csv(\n",
    "    './data/'+filename+'.train.rating', \n",
    "    sep='\\t', header=None, names=['user', 'item'], \n",
    "    usecols=[0, 1], dtype={0: np.int32, 1: np.int32})\n",
    "\n",
    "#test data load\n",
    "#99개는 나중에 test과정에서 랜덤으로 뽑자\n",
    "test_data_df = pd.read_csv(\n",
    "    './data/'+filename+'.test.rating', \n",
    "    sep='\\t', header=None, names=['user', 'item'], \n",
    "    usecols=[0, 1], dtype={0: np.int32, 1: np.int32})\n",
    "\n",
    "#user, item num\n",
    "num_users = train_data_df['user'].max() + 1\n",
    "num_items = train_data_df['item'].max() + 1\n",
    "\n",
    "print(\"n_user : {}, n_item : {}\".format(num_users, num_items))\n",
    "print(\"train : {}, test : {}\".format(len(train_data_df), len(test_data_df)))"
   ]
  },
  {
   "cell_type": "markdown",
   "id": "copyrighted-magnitude",
   "metadata": {},
   "source": [
    "### 매트릭스 생성"
   ]
  },
  {
   "cell_type": "code",
   "execution_count": 8,
   "id": "rational-sheep",
   "metadata": {},
   "outputs": [
    {
     "name": "stderr",
     "output_type": "stream",
     "text": [
      "100%|█████████████████████████████████████████████████████████████████████| 994169/994169 [00:00<00:00, 1905981.40it/s]\n",
      "100%|█████████████████████████████████████████████████████████████████████████| 994169/994169 [22:58<00:00, 721.05it/s]\n"
     ]
    }
   ],
   "source": [
    "u_lst = train_data_df['user'].tolist()\n",
    "i_lst = train_data_df['item'].tolist()\n",
    "\n",
    "# rating array 생성\n",
    "mat = np.zeros((num_users, num_items))\n",
    "for i in tqdm(range(len(train_data_df))):\n",
    "    mat[u_lst[i], i_lst[i]] = 1\n",
    "\n",
    "# user - item matrix    \n",
    "user_item_df = pd.DataFrame(mat)\n",
    "\n",
    "# item similarity matrix\n",
    "item_sim = cosine_similarity(user_item_df.transpose(),user_item_df.transpose())\n",
    "item_sim_df = pd.DataFrame(item_sim)\n",
    "\n",
    "# interaction에 따른 score matrix\n",
    "score = np.zeros((num_users, num_items))\n",
    "for k in tqdm(range(len(train_data_df))):\n",
    "    u,i=u_lst[k],i_lst[k]\n",
    "    score[u]=np.array([x+y for x,y in zip(score[u],item_sim[i])])\n",
    "score_df=pd.DataFrame(score)\n",
    "\n",
    "#score_df -> dict로 변경\n",
    "#score_dict = score_df.to_dict()\n",
    "#그냥 to_dict로 변경하니까 item이 key값으로 나옴\n",
    "score_dict = score_df.transpose().to_dict()"
   ]
  },
  {
   "cell_type": "markdown",
   "id": "undefined-chassis",
   "metadata": {},
   "source": [
    "### evaluate"
   ]
  },
  {
   "cell_type": "code",
   "execution_count": 15,
   "id": "perceived-prompt",
   "metadata": {},
   "outputs": [],
   "source": [
    "def hit(gt_item, pred_items):\n",
    "\tif gt_item in pred_items:\n",
    "\t\treturn 1\n",
    "\treturn 0\n",
    "\n",
    "\n",
    "def ndcg(gt_item, pred_items):\n",
    "\tif gt_item in pred_items:\n",
    "\t\tindex = pred_items.index(gt_item)\n",
    "\t\treturn np.reciprocal(np.log2(index+2))\n",
    "\treturn 0\n",
    "\n",
    "def evaluate(gt_item, full_pred_items, K):\n",
    "    pred_items = full_pred_items[0:K]\n",
    "    return hit(gt_item, pred_items), ndcg(gt_item, pred_items)\n",
    "\n",
    "def user_test(test_user, K):\n",
    "    # 강좌별 score\n",
    "    pred = dict(sorted(score_dict[test_user].items(),key=(lambda x:x[1]), reverse=True))\n",
    "\n",
    "    # test 100개 리스트 만들기\n",
    "    asis = train_data_df[train_data_df['user']==test_user]['item'].tolist()\n",
    "    gt = test_data_df[test_data_df['user']==test_user]['item'].tolist()\n",
    "    \n",
    "    full = set(range(0,num_items))\n",
    "    test_cand_99 = random.sample(list(full-set(asis)-set(gt)),99)\n",
    "    test_cand = gt.copy()\n",
    "    test_cand.extend(test_cand_99)\n",
    "    \n",
    "    # 100개 score 다시 뽑아서 test_score에 저장\n",
    "    test_score=dict()\n",
    "    for item in test_cand:\n",
    "        test_score.update({item:pred[item]})\n",
    "\n",
    "    res = dict(sorted(test_score.items(),key=(lambda x:x[1]), reverse=True))\n",
    "\n",
    "    return evaluate(gt[0], list(res.keys()), K)"
   ]
  },
  {
   "cell_type": "code",
   "execution_count": 18,
   "id": "turned-agent",
   "metadata": {},
   "outputs": [
    {
     "name": "stderr",
     "output_type": "stream",
     "text": [
      "100%|████████████████████████████████████████████████████████████████████████████████| 100/100 [34:05<00:00, 20.46s/it]\n"
     ]
    }
   ],
   "source": [
    "fin_hr=[]\n",
    "fin_ndcg=[]\n",
    "for epoch in tqdm(range(100)):\n",
    "    _hr=[]\n",
    "    _ndcg=[]\n",
    "\n",
    "    #for i in tqdm(range(num_users)):\n",
    "    for i in range(num_users):\n",
    "        temp1, temp2 = user_test(i,10)\n",
    "        _hr.append(temp1)\n",
    "        _ndcg.append(temp2)\n",
    "    fin_hr.append(sum(_hr)/len(_hr))\n",
    "    fin_ndcg.append(sum(_ndcg)/len(_ndcg))\n",
    "    #print(epoch+1, sum(_hr)/len(_hr), sum(_ndcg)/len(_ndcg))"
   ]
  },
  {
   "cell_type": "code",
   "execution_count": 19,
   "id": "satisfactory-campbell",
   "metadata": {},
   "outputs": [
    {
     "name": "stdout",
     "output_type": "stream",
     "text": [
      "[0.5245033112582781, 0.5178807947019868, 0.5230132450331125, 0.5188741721854304, 0.518046357615894, 0.5163907284768212, 0.518046357615894, 0.5254966887417218, 0.520364238410596, 0.5187086092715232, 0.5163907284768212, 0.5178807947019868, 0.5206953642384106, 0.5175496688741722, 0.5198675496688742, 0.5206953642384106, 0.5188741721854304, 0.5173841059602649, 0.5185430463576159, 0.5210264900662251, 0.5210264900662251, 0.5200331125827815, 0.5158940397350993, 0.5178807947019868, 0.5198675496688742, 0.5226821192052981, 0.5226821192052981, 0.5218543046357615, 0.5211920529801325, 0.5195364238410596, 0.5213576158940397, 0.5190397350993378, 0.5200331125827815, 0.5221854304635761, 0.5172185430463576, 0.525, 0.5236754966887417, 0.5205298013245033, 0.5218543046357615, 0.5220198675496689, 0.5210264900662251, 0.5147350993377483, 0.5195364238410596, 0.5233443708609271, 0.5177152317880794, 0.5183774834437086, 0.5177152317880794, 0.5211920529801325, 0.5208609271523179, 0.5158940397350993, 0.518046357615894, 0.5223509933774835, 0.5201986754966887, 0.5264900662251656, 0.5200331125827815, 0.5198675496688742, 0.5183774834437086, 0.5200331125827815, 0.5195364238410596, 0.5205298013245033, 0.5185430463576159, 0.5206953642384106, 0.520364238410596, 0.5152317880794702, 0.5235099337748345, 0.5195364238410596, 0.5226821192052981, 0.5213576158940397, 0.5201986754966887, 0.520364238410596, 0.5215231788079471, 0.5233443708609271, 0.520364238410596, 0.5245033112582781, 0.523841059602649, 0.5211920529801325, 0.5223509933774835, 0.5218543046357615, 0.5254966887417218, 0.5278145695364238, 0.5160596026490066, 0.5208609271523179, 0.519205298013245, 0.5205298013245033, 0.5271523178807948, 0.5220198675496689, 0.5225165562913907, 0.5231788079470199, 0.5177152317880794, 0.5271523178807948, 0.5264900662251656, 0.5235099337748345, 0.5205298013245033, 0.5231788079470199, 0.5197019867549669, 0.5259933774834437, 0.5193708609271523, 0.5200331125827815, 0.5140728476821192, 0.5195364238410596]\n",
      "[0.30498570538821423, 0.3048206217440573, 0.305462081135187, 0.30236870218303036, 0.30443567292317847, 0.3038040348701582, 0.30505748233386926, 0.30807309755077367, 0.30485968548616543, 0.3029882143419962, 0.30321119072237274, 0.3036896929841662, 0.30507928699914433, 0.30606205526277575, 0.306270249787859, 0.300179009171378, 0.3048009818251423, 0.30341605694357265, 0.3037863084277568, 0.30594343844201877, 0.3038511412039758, 0.3050492780795632, 0.3027547720378311, 0.3034580670893897, 0.30368908575609116, 0.3040094435355381, 0.30485870079684163, 0.3037217270127281, 0.3031331750450385, 0.3041478555552824, 0.3038396982775833, 0.30376920245551764, 0.3055457918865173, 0.30648966149638823, 0.3071469910478696, 0.3083887463538019, 0.30845102088755166, 0.30605668949247794, 0.303190630872415, 0.3068563577146779, 0.3034864402212343, 0.3039247320328322, 0.30325989475226656, 0.3050998611756258, 0.30430992633945264, 0.30586252319154317, 0.3047112060994207, 0.30489295341658906, 0.3057622418106825, 0.3047018360430651, 0.3043856429761232, 0.30646519655601917, 0.3034045979133442, 0.3065509621684182, 0.30189567414409946, 0.30377504101577674, 0.3038859956780633, 0.3055768114558406, 0.30375364259745435, 0.3050981280137609, 0.30319453252369394, 0.3026714789953813, 0.3056492474663855, 0.30333408283294977, 0.30859227407516604, 0.3024590235553465, 0.3038567627872705, 0.30360776978542536, 0.30471636375707256, 0.3022998139349318, 0.30036290640528635, 0.3068245631325572, 0.30615660834813524, 0.3037445579143205, 0.3061891589482964, 0.30536045368561876, 0.3057488439419789, 0.3032662154291793, 0.3064348158707676, 0.3078740285902728, 0.3026018661416556, 0.3029020102565481, 0.303199550416217, 0.30664331562085134, 0.30739124579682026, 0.3056532195416208, 0.30424863749597325, 0.30622056335048, 0.3020437365214336, 0.30537000680070653, 0.3103042750174758, 0.30615116302608114, 0.30632148139935894, 0.3034613335080263, 0.30646235874991423, 0.306429551490582, 0.30548479915211535, 0.3015011489924132, 0.30170523906277413, 0.30536991875074015]\n"
     ]
    }
   ],
   "source": [
    "print(fin_hr)\n",
    "print(fin_ndcg)"
   ]
  },
  {
   "cell_type": "code",
   "execution_count": null,
   "id": "optional-command",
   "metadata": {},
   "outputs": [],
   "source": []
  }
 ],
 "metadata": {
  "kernelspec": {
   "display_name": "Python 3",
   "language": "python",
   "name": "python3"
  },
  "language_info": {
   "codemirror_mode": {
    "name": "ipython",
    "version": 3
   },
   "file_extension": ".py",
   "mimetype": "text/x-python",
   "name": "python",
   "nbconvert_exporter": "python",
   "pygments_lexer": "ipython3",
   "version": "3.8.5"
  }
 },
 "nbformat": 4,
 "nbformat_minor": 5
}
