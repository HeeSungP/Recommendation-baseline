{
 "cells": [
  {
   "cell_type": "code",
   "execution_count": 1,
   "metadata": {
    "scrolled": true
   },
   "outputs": [
    {
     "name": "stderr",
     "output_type": "stream",
     "text": [
      " 18%|████████████▍                                                        | 179667/994169 [00:00<00:00, 1784216.27it/s]"
     ]
    },
    {
     "name": "stdout",
     "output_type": "stream",
     "text": [
      "n_user : 6040, n_item : 3706\n",
      "train : 994169, test : 6040\n"
     ]
    },
    {
     "name": "stderr",
     "output_type": "stream",
     "text": [
      "100%|█████████████████████████████████████████████████████████████████████| 994169/994169 [00:00<00:00, 1748922.30it/s]\n"
     ]
    }
   ],
   "source": [
    "import numpy as np\n",
    "import pandas as pd\n",
    "from tqdm import tqdm\n",
    "from sklearn.metrics.pairwise import cosine_similarity, euclidean_distances, manhattan_distances\n",
    "import random\n",
    "\n",
    "filename=\"ml1m\" # mlsmall ml1m lastfm abook\n",
    "\n",
    "#train data load\n",
    "train_data_df = pd.read_csv(\n",
    "    './data/'+filename+'.train.rating', \n",
    "    sep='\\t', header=None, names=['user', 'item'], \n",
    "    usecols=[0, 1], dtype={0: np.int32, 1: np.int32})\n",
    "\n",
    "#test data load\n",
    "#99개는 나중에 test과정에서 랜덤으로 뽑자\n",
    "test_data_df = pd.read_csv(\n",
    "    './data/'+filename+'.test.rating', \n",
    "    sep='\\t', header=None, names=['user', 'item'], \n",
    "    usecols=[0, 1], dtype={0: np.int32, 1: np.int32})\n",
    "\n",
    "#user, item num\n",
    "num_users = train_data_df['user'].max() + 1\n",
    "num_items = train_data_df['item'].max() + 1\n",
    "\n",
    "print(\"n_user : {}, n_item : {}\".format(num_users, num_items))\n",
    "print(\"train : {}, test : {}\".format(len(train_data_df), len(test_data_df)))\n",
    "\n",
    "u_lst = train_data_df['user'].tolist()\n",
    "i_lst = train_data_df['item'].tolist()\n",
    "\n",
    "# rating array 생성\n",
    "mat = np.zeros((num_users, num_items))\n",
    "for i in tqdm(range(len(train_data_df))):\n",
    "    mat[u_lst[i], i_lst[i]] = 1\n",
    "\n",
    "# user - item matrix    \n",
    "user_item_df = pd.DataFrame(mat)"
   ]
  },
  {
   "cell_type": "markdown",
   "metadata": {},
   "source": [
    "# Implicit library import\n",
    "#### https://github.com/benfred/implicit\n",
    "#### https://implicit.readthedocs.io/en/latest/models.html"
   ]
  },
  {
   "cell_type": "code",
   "execution_count": 2,
   "metadata": {},
   "outputs": [],
   "source": [
    "from scipy.sparse import csr_matrix\n",
    "from implicit.bpr import BayesianPersonalizedRanking"
   ]
  },
  {
   "cell_type": "code",
   "execution_count": 3,
   "metadata": {},
   "outputs": [],
   "source": [
    "model = BayesianPersonalizedRanking(factors=16, iterations=100)"
   ]
  },
  {
   "cell_type": "code",
   "execution_count": 4,
   "metadata": {},
   "outputs": [
    {
     "name": "stdout",
     "output_type": "stream",
     "text": [
      "(6040, 3706)\n",
      "(3706, 6040)\n"
     ]
    }
   ],
   "source": [
    "# user-item matrix\n",
    "user_items = csr_matrix(mat).tocsr()\n",
    "\n",
    "#item-user matrix\n",
    "item_users = csr_matrix(mat.T).tocsr()\n",
    "\n",
    "print(mat.shape) #user-item\n",
    "print(mat.T.shape) #item-user"
   ]
  },
  {
   "cell_type": "code",
   "execution_count": 5,
   "metadata": {},
   "outputs": [
    {
     "data": {
      "application/vnd.jupyter.widget-view+json": {
       "model_id": "4f1c326f1dbe47fbbbcc28aaaa01b077",
       "version_major": 2,
       "version_minor": 0
      },
      "text/plain": [
       "HBox(children=(HTML(value=''), FloatProgress(value=0.0), HTML(value='')))"
      ]
     },
     "metadata": {},
     "output_type": "display_data"
    },
    {
     "name": "stdout",
     "output_type": "stream",
     "text": [
      "\n"
     ]
    }
   ],
   "source": [
    "# model fitting => item-user mat\n",
    "model.fit(item_users)"
   ]
  },
  {
   "cell_type": "markdown",
   "metadata": {},
   "source": [
    "## evaluation"
   ]
  },
  {
   "cell_type": "code",
   "execution_count": 6,
   "metadata": {},
   "outputs": [],
   "source": [
    "def hit(gt_item, pred_items):\n",
    "\tif gt_item in pred_items:\n",
    "\t\treturn 1\n",
    "\treturn 0\n",
    "\n",
    "\n",
    "def ndcg(gt_item, pred_items):\n",
    "\tif gt_item in pred_items:\n",
    "\t\tindex = pred_items.index(gt_item)\n",
    "\t\treturn np.reciprocal(np.log2(index+2))\n",
    "\treturn 0\n",
    "\n",
    "def evaluate(gt_item, full_pred_items, K):\n",
    "    pred_items = full_pred_items[0:K]\n",
    "    return hit(gt_item, pred_items), ndcg(gt_item, pred_items)\n",
    "\n",
    "def user_test(test_user, K):\n",
    "    # 강좌별 추천 score dict 형식으로 저장\n",
    "    recommendations = model.recommend(test_user, user_items, N=num_items)\n",
    "    pred = {x:y for x,y in recommendations}\n",
    "    \n",
    "    # test 100개 리스트 만들기\n",
    "    asis = train_data_df[train_data_df['user']==test_user]['item'].tolist()\n",
    "    gt = test_data_df[test_data_df['user']==test_user]['item'].tolist()\n",
    "\n",
    "    full = set(range(0,num_items))\n",
    "    test_cand_99 = random.sample(list(full-set(asis)-set(gt)),99)\n",
    "    test_cand = gt.copy()\n",
    "    test_cand.extend(test_cand_99)\n",
    "\n",
    "    # 100개 score 다시 뽑아서 test_score에 저장\n",
    "    test_score=dict()\n",
    "    for item in test_cand:\n",
    "        if item in pred.keys():\n",
    "            test_score.update({item:pred[item]})\n",
    "        else:\n",
    "            test_score.update({item:0})\n",
    "    res = dict(sorted(test_score.items(),key=(lambda x:x[1]), reverse=True))\n",
    "    return evaluate(gt[0], list(res.keys()), K)    "
   ]
  },
  {
   "cell_type": "code",
   "execution_count": 7,
   "metadata": {},
   "outputs": [
    {
     "name": "stderr",
     "output_type": "stream",
     "text": [
      "100%|██████████████████████████████████████████████████████████████████████████████████| 10/10 [04:42<00:00, 28.27s/it]\n"
     ]
    }
   ],
   "source": [
    "fin_hr=[]\n",
    "fin_ndcg=[]\n",
    "for epoch in tqdm(range(10)):\n",
    "    _hr=[]\n",
    "    _ndcg=[]\n",
    "\n",
    "    #for i in tqdm(range(num_users)):\n",
    "    for i in range(num_users):\n",
    "        temp1, temp2 = user_test(i,10)\n",
    "        _hr.append(temp1)\n",
    "        _ndcg.append(temp2)\n",
    "    fin_hr.append(sum(_hr)/len(_hr))\n",
    "    fin_ndcg.append(sum(_ndcg)/len(_ndcg))\n",
    "    #print(epoch+1, sum(_hr)/len(_hr), sum(_ndcg)/len(_ndcg))"
   ]
  },
  {
   "cell_type": "code",
   "execution_count": 8,
   "metadata": {},
   "outputs": [
    {
     "name": "stdout",
     "output_type": "stream",
     "text": [
      "[0.5834437086092715, 0.5852649006622517, 0.5917218543046358, 0.5862582781456953, 0.5869205298013245, 0.5850993377483443, 0.5913907284768212, 0.5846026490066225, 0.5839403973509933, 0.5864238410596027] \n",
      " [0.3421733024160763, 0.3417395809007765, 0.3436753100654177, 0.34319141780561596, 0.3417458940311683, 0.34208597815351455, 0.3413774322907072, 0.34089836511339494, 0.3403802409635014, 0.34360076263552874]\n"
     ]
    }
   ],
   "source": [
    "print(fin_hr,'\\n',fin_ndcg)"
   ]
  }
 ],
 "metadata": {
  "kernelspec": {
   "display_name": "torch_bpr",
   "language": "python",
   "name": "torch_bpr"
  },
  "language_info": {
   "codemirror_mode": {
    "name": "ipython",
    "version": 3
   },
   "file_extension": ".py",
   "mimetype": "text/x-python",
   "name": "python",
   "nbconvert_exporter": "python",
   "pygments_lexer": "ipython3",
   "version": "3.8.5"
  }
 },
 "nbformat": 4,
 "nbformat_minor": 4
}
